{
 "cells": [
  {
   "cell_type": "code",
   "execution_count": null,
   "id": "ec03f0ce",
   "metadata": {},
   "outputs": [],
   "source": [
    "#What is Software?\n",
    "#software is nothing but a collections of computer program and related documents that are provide desired features & functionalities and better performance."
   ]
  },
  {
   "cell_type": "code",
   "execution_count": null,
   "id": "3d8365b4",
   "metadata": {},
   "outputs": [],
   "source": [
    "#What are the types of Applications?\n",
    "#basically there are three types of application:\n",
    "(1) Web application: any website component that performs some functions for the user qualifies as a web application.\n",
    "    ex: e-commerce website,video & photo editing app.\n",
    "(2) Mobile application: an application software intend to run on mobile like tabblets,smart phones.\n",
    "(3) Desktop application : an application that run stand-alone in a desktop or laptop,computer."
   ]
  },
  {
   "cell_type": "code",
   "execution_count": null,
   "id": "5ab98db3",
   "metadata": {},
   "outputs": [],
   "source": [
    "#What is programing?\n",
    "#Programming is an exercise or practice that boost our logical thinking and improves a problem-solving skill. \n",
    " It teaches us how to accomplish a task with the help of a computer program or software. \n",
    " Therefore, in simple terms, programming is a task to implement a solution to a problem in the form of computer language. "
   ]
  },
  {
   "cell_type": "code",
   "execution_count": null,
   "id": "6e12807d",
   "metadata": {},
   "outputs": [],
   "source": [
    "#What is Python?\n",
    "# Python is a computer programming language often used to build websites and software, automate tasks, and conduct data analysis.\n",
    "#Python is an interpreted, object-oriented, high-level programming language with dynamic semantics developed by Guido van Rossum in 1991.\n",
    "# main features of python:\n",
    "1. best programming language in the world\n",
    "2. the Easiest programming language in the world\n",
    "3. case sensitive\n",
    "4. open source\n",
    "5. portable"
   ]
  }
 ],
 "metadata": {
  "kernelspec": {
   "display_name": "Python 3 (ipykernel)",
   "language": "python",
   "name": "python3"
  },
  "language_info": {
   "codemirror_mode": {
    "name": "ipython",
    "version": 3
   },
   "file_extension": ".py",
   "mimetype": "text/x-python",
   "name": "python",
   "nbconvert_exporter": "python",
   "pygments_lexer": "ipython3",
   "version": "3.10.8"
  }
 },
 "nbformat": 4,
 "nbformat_minor": 5
}
